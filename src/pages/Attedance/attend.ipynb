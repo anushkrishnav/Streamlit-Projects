{
 "metadata": {
  "language_info": {
   "codemirror_mode": {
    "name": "ipython",
    "version": 3
   },
   "file_extension": ".py",
   "mimetype": "text/x-python",
   "name": "python",
   "nbconvert_exporter": "python",
   "pygments_lexer": "ipython3",
   "version": 3
  },
  "orig_nbformat": 2
 },
 "nbformat": 4,
 "nbformat_minor": 2,
 "cells": [
  {
   "cell_type": "code",
   "execution_count": null,
   "metadata": {},
   "outputs": [],
   "source": [
    "def load_data():\n",
    "        \"\"\"Reads the data from the csv files , removes the rows with missing value and resets the index\"\"\"\n",
    "        data=pd.read_csv('src/pages/Home/Dept.csv')\n",
    "        data['I'] = pd.to_numeric(data['I'].str.replace('Nil', ''))\n",
    "        data['II'] = pd.to_numeric(data['II'].str.replace('Nil', ''))\n",
    "        data['III'] = pd.to_numeric(data['III'].str.replace('Nil', ''))\n",
    "        data = data.dropna()\n",
    "        data = data.reset_index(drop=True)\n",
    "        return data\n",
    "load_data()"
   ]
  },
  {
   "cell_type": "code",
   "execution_count": null,
   "metadata": {},
   "outputs": [],
   "source": []
  }
 ]
}